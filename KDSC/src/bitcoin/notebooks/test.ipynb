{
 "metadata": {
  "language_info": {
   "codemirror_mode": {
    "name": "ipython",
    "version": 3
   },
   "file_extension": ".py",
   "mimetype": "text/x-python",
   "name": "python",
   "nbconvert_exporter": "python",
   "pygments_lexer": "ipython3",
   "version": "3.6.9-final"
  },
  "orig_nbformat": 2,
  "kernelspec": {
   "name": "python36964bitba8bdee6f0024d79a2d48ed01e02e08b",
   "display_name": "Python 3.6.9 64-bit"
  }
 },
 "nbformat": 4,
 "nbformat_minor": 2,
 "cells": [
  {
   "cell_type": "code",
   "execution_count": 2,
   "metadata": {
    "tags": []
   },
   "outputs": [
    {
     "output_type": "stream",
     "name": "stderr",
     "text": "[nltk_data] Downloading package punkt to /home/hmayt/nltk_data...\n[nltk_data]   Package punkt is already up-to-date!\n"
    }
   ],
   "source": [
    "\n",
    "import datetime\n",
    "\n",
    "import nltk\n",
    "nltk.download('punkt')\n",
    "\n",
    "import sys\n",
    "from smart_open import open as sopen\n",
    "import json\n",
    "import io\n",
    "\n",
    "\n",
    "from google.cloud import storage\n",
    "\n",
    "\n",
    "\n",
    "\n",
    "\n",
    "\n",
    "def get_file_names():\n",
    "    files = []\n",
    "    client = storage.Client()\n",
    "    for blob in client.list_blobs('workflowkddc', prefix='Bitcoin/comments/raw/'):\n",
    "        files.append(str(blob.name))\n",
    "    return files\n",
    "\n",
    "columns_db = [\n",
    "'comment_datetime',\n",
    "'body',\n",
    "'downs',\n",
    "'ups',\n",
    "'author']\n",
    "columns_processed = ['tokens_all_body',\n",
    "'poti_digi',\n",
    "'created_utc',\n",
    "'downs',\n",
    "'ups',\n",
    "'author']\n",
    "columns_gold = [ 'created_utc',\n",
    "'dollar_comment',\n",
    "'author']\n",
    "\n",
    "bucket = 'workflowkddc' \n",
    "prefix = 'Bitcoin/comments' \n",
    "filetype = 'txt'\n",
    "filen_procssed = 'processed'\n",
    "filen_gold = 'gold'\n",
    "filename_procssed = \"sliced_comments_tokenized\"\n",
    "filename_dollar_mention = \"dollar_mention\"\n",
    "\n",
    "okeys = {}\n",
    "for path in get_file_names():\n",
    "    for line in sopen( 'gs://{}/{}'.format(bucket, path), 'rb'): \n",
    "        pass\n",
    "        json_ob = json.loads(line)\n",
    "        okeys[path] = json_ob.keys()\n",
    "        break\n",
    "\n"
   ]
  },
  {
   "cell_type": "code",
   "execution_count": 3,
   "metadata": {},
   "outputs": [
    {
     "output_type": "execute_result",
     "data": {
      "text/plain": "or_flair_css_class', 'author_flair_text', 'archived', 'id', 'score', 'link_id', 'controversiality', 'gilded', 'author', 'subreddit_id', 'body', 'edited', 'distinguished']),\n 'Bitcoin/comments/raw/RC_2012-06.txt': dict_keys(['author_flair_css_class', 'author', 'subreddit', 'distinguished', 'score', 'id', 'removal_reason', 'ups', 'downs', 'edited', 'created_utc', 'score_hidden', 'subreddit_id', 'body', 'name', 'retrieved_on', 'author_flair_text', 'link_id', 'archived', 'controversiality', 'gilded', 'parent_id']),\n 'Bitcoin/comments/raw/RC_2012-07.txt': dict_keys(['archived', 'id', 'parent_id', 'created_utc', 'body', 'link_id', 'edited', 'gilded', 'subreddit', 'retrieved_on', 'author_flair_css_class', 'distinguished', 'score', 'controversiality', 'ups', 'author', 'name', 'score_hidden', 'author_flair_text', 'downs', 'subreddit_id']),\n 'Bitcoin/comments/raw/RC_2012-08.txt': dict_keys(['downs', 'created_utc', 'gilded', 'subreddit', 'id', 'subreddit_id', 'distinguished', 'link_id', 'retrieved_on', 'ups', 'author_flair_text', 'edited', 'name', 'score_hidden', 'archived', 'parent_id', 'body', 'author_flair_css_class', 'author', 'score', 'controversiality']),\n 'Bitcoin/comments/raw/RC_2012-09.txt': dict_keys(['id', 'author_flair_text', 'author_flair_css_class', 'subreddit', 'ups', 'score', 'gilded', 'score_hidden', 'author', 'body', 'created_utc', 'retrieved_on', 'subreddit_id', 'downs', 'distinguished', 'archived', 'edited', 'parent_id', 'controversiality', 'name', 'link_id']),\n 'Bitcoin/comments/raw/RC_2012-10.txt': dict_keys(['parent_id', 'edited', 'link_id', 'body', 'archived', 'subreddit_id', 'name', 'downs', 'id', 'retrieved_on', 'created_utc', 'ups', 'score_hidden', 'subreddit', 'controversiality', 'author_flair_text', 'author_flair_css_class', 'distinguished', 'author', 'gilded', 'score']),\n 'Bitcoin/comments/raw/RC_2012-11.txt': dict_keys(['name', 'edited', 'author_flair_css_class', 'archived', 'gilded', 'retrieved_on', 'score_hidden', 'subreddit_id', 'distinguished', 'downs', 'subreddit', 'controversiality', 'parent_id', 'score', 'body', 'author_flair_text', 'ups', 'created_utc', 'author', 'link_id', 'id']),\n 'Bitcoin/comments/raw/RC_2012-12.txt': dict_keys(['subreddit_id', 'link_id', 'distinguished', 'score_hidden', 'subreddit', 'body', 'created_utc', 'downs', 'archived', 'parent_id', 'author_flair_text', 'score', 'edited', 'gilded', 'id', 'retrieved_on', 'controversiality', 'ups', 'author_flair_css_class', 'name', 'author']),\n 'Bitcoin/comments/raw/RC_2013-01.txt': dict_keys(['gilded', 'downs', 'body', 'edited', 'subreddit_id', 'ups', 'retrieved_on', 'controversiality', 'created_utc', 'score', 'distinguished', 'id', 'name', 'author_flair_text', 'subreddit', 'author_flair_css_class', 'archived', 'score_hidden', 'link_id', 'parent_id', 'author']),\n 'Bitcoin/comments/raw/RC_2013-02.txt': dict_keys(['name', 'author_flair_css_class', 'author', 'created_utc', 'author_flair_text', 'ups', 'id', 'edited', 'retrieved_on', 'score_hidden', 'gilded', 'downs', 'controversiality', 'body', 'subreddit_id', 'distinguished', 'parent_id', 'subreddit', 'archived', 'score', 'link_id']),\n 'Bitcoin/comments/raw/RC_2013-03.txt': dict_keys(['author', 'controversiality', 'retrieved_on', 'link_id', 'removal_reason', 'ups', 'body', 'created_utc', 'subreddit_id', 'score_hidden', 'author_flair_css_class', 'author_flair_text', 'gilded', 'parent_id', 'edited', 'name', 'downs', 'subreddit', 'score', 'archived', 'id', 'distinguished']),\n 'Bitcoin/comments/raw/RC_2013-04.txt': dict_keys(['created_utc', 'controversiality', 'score', 'downs', 'id', 'archived', 'distinguished', 'edited', 'link_id', 'name', 'gilded', 'author_flair_text', 'score_hidden', 'subreddit', 'removal_reason', 'body', 'author_flair_css_class', 'ups', 'parent_id', 'retrieved_on', 'subreddit_id', 'author']),\n 'Bitcoin/comments/raw/RC_2013-05.txt': dict_keys(['ups', 'name', 'author_flair_text', 'archived', 'controversiality', 'removal_reason', 'subreddit', 'score_hidden', 'parent_id', 'created_utc', 'subreddit_id', 'distinguished', 'author_flair_css_class', 'downs', 'author', 'retrieved_on', 'id', 'link_id', 'edited', 'score', 'body', 'gilded']),\n 'Bitcoin/comments/raw/RC_2013-06.txt': dict_keys(['ups', 'downs', 'gilded', 'archived', 'subreddit_id', 'parent_id', 'name', 'retrieved_on', 'score_hidden', 'created_utc', 'edited', 'author_flair_css_class', 'distinguished', 'author_flair_text', 'id', 'score', 'link_id', 'subreddit', 'author', 'body', 'controversiality']),\n 'Bitcoin/comments/raw/RC_2013-07.txt': dict_keys(['body', 'controversiality', 'author', 'author_flair_css_class', 'created_utc', 'edited', 'archived', 'downs', 'distinguished', 'score_hidden', 'retrieved_on', 'ups', 'parent_id', 'gilded', 'name', 'author_flair_text', 'subreddit_id', 'score', 'subreddit', 'link_id', 'id']),\n 'Bitcoin/comments/raw/RC_2013-08.txt': dict_keys(['edited', 'id', 'subreddit_id', 'retrieved_on', 'author_flair_text', 'name', 'score_hidden', 'gilded', 'parent_id', 'link_id', 'archived', 'subreddit', 'controversiality', 'created_utc', 'distinguished', 'score', 'author_flair_css_class', 'ups', 'downs', 'body', 'author']),\n 'Bitcoin/comments/raw/RC_2013-09.txt': dict_keys(['score_hidden', 'id', 'author', 'retrieved_on', 'parent_id', 'downs', 'edited', 'score', 'controversiality', 'subreddit', 'body', 'distinguished', 'subreddit_id', 'ups', 'author_flair_css_class', 'created_utc', 'author_flair_text', 'gilded', 'name', 'link_id', 'archived']),\n 'Bitcoin/comments/raw/RC_2013-11.txt': dict_keys(['gilded', 'controversiality', 'link_id', 'author', 'distinguished', 'downs', 'retrieved_on', 'created_utc', 'score', 'subreddit_id', 'author_flair_text', 'ups', 'edited', 'score_hidden', 'author_flair_css_class', 'id', 'archived', 'name', 'body', 'subreddit', 'parent_id']),\n 'Bitcoin/comments/raw/RC_2013-12.txt': dict_keys(['score_hidden', 'name', 'distinguished', 'id', 'retrieved_on', 'author', 'score', 'author_flair_css_class', 'created_utc', 'subreddit', 'edited', 'subreddit_id', 'downs', 'controversiality', 'ups', 'link_id', 'parent_id', 'gilded', 'archived', 'author_flair_text', 'body']),\n 'Bitcoin/comments/raw/RC_2014-01.txt': dict_keys(['author_flair_text', 'subreddit', 'author', 'parent_id', 'link_id', 'edited', 'ups', 'score', 'gilded', 'retrieved_on', 'downs', 'body', 'author_flair_css_class', 'archived', 'id', 'distinguished', 'score_hidden', 'created_utc', 'controversiality', 'subreddit_id', 'name']),\n 'Bitcoin/comments/raw/RC_2014-02.txt': dict_keys(['downs', 'id', 'author_flair_text', 'distinguished', 'link_id', 'retrieved_on', 'name', 'subreddit_id', 'removal_reason', 'gilded', 'parent_id', 'edited', 'author_flair_css_class', 'subreddit', 'controversiality', 'ups', 'score', 'created_utc', 'body', 'archived', 'author', 'score_hidden']),\n 'Bitcoin/comments/raw/RC_2014-03.txt': dict_keys(['removal_reason', 'ups', 'edited', 'link_id', 'author_flair_text', 'distinguished', 'score', 'author', 'retrieved_on', 'body', 'created_utc', 'score_hidden', 'name', 'archived', 'controversiality', 'subreddit', 'author_flair_css_class', 'gilded', 'parent_id', 'subreddit_id', 'downs', 'id']),\n 'Bitcoin/comments/raw/RC_2014-04.txt': dict_keys(['downs', 'controversiality', 'score_hidden', 'link_id', 'retrieved_on', 'author_flair_css_class', 'ups', 'gilded', 'created_utc', 'name', 'score', 'subreddit', 'distinguished', 'subreddit_id', 'edited', 'id', 'author', 'body', 'archived', 'parent_id', 'author_flair_text', 'removal_reason']),\n 'Bitcoin/comments/raw/RC_2014-05.txt': dict_keys(['subreddit_id', 'gilded', 'ups', 'downs', 'name', 'parent_id', 'author_flair_css_class', 'archived', 'subreddit', 'score_hidden', 'controversiality', 'edited', 'removal_reason', 'author', 'body', 'id', 'score', 'distinguished', 'created_utc', 'link_id', 'retrieved_on', 'author_flair_text']),\n 'Bitcoin/comments/raw/RC_2014-06.txt': dict_keys(['author_flair_text', 'author', 'archived', 'score', 'ups', 'gilded', 'created_utc', 'distinguished', 'score_hidden', 'retrieved_on', 'name', 'edited', 'downs', 'author_flair_css_class', 'body', 'controversiality', 'id', 'link_id', 'subreddit', 'parent_id', 'removal_reason', 'subreddit_id']),\n 'Bitcoin/comments/raw/RC_2014-07.txt': dict_keys(['controversiality', 'retrieved_on', 'parent_id', 'author_flair_text', 'archived', 'created_utc', 'link_id', 'score', 'ups', 'id', 'subreddit_id', 'edited', 'removal_reason', 'score_hidden', 'gilded', 'body', 'author_flair_css_class', 'downs', 'distinguished', 'name', 'subreddit', 'author']),\n 'Bitcoin/comments/raw/RC_2014-08.txt': dict_keys(['removal_reason', 'id', 'created_utc', 'subreddit', 'gilded', 'score_hidden', 'controversiality', 'retrieved_on', 'subreddit_id', 'author_flair_text', 'score', 'ups', 'body', 'name', 'archived', 'author_flair_css_class', 'edited', 'downs', 'author', 'link_id', 'parent_id', 'distinguished']),\n 'Bitcoin/comments/raw/RC_2014-09.txt': dict_keys(['score', 'body', 'link_id', 'subreddit', 'name', 'retrieved_on', 'id', 'subreddit_id', 'edited', 'author_flair_css_class', 'distinguished', 'downs', 'author_flair_text', 'archived', 'ups', 'controversiality', 'parent_id', 'created_utc', 'gilded', 'score_hidden', 'author']),\n 'Bitcoin/comments/raw/RC_2014-10.txt': dict_keys(['author_flair_text', 'edited', 'retrieved_on', 'downs', 'id', 'created_utc', 'author', 'gilded', 'controversiality', 'link_id', 'subreddit_id', 'subreddit', 'ups', 'distinguished', 'body', 'score', 'parent_id', 'archived', 'author_flair_css_class', 'name', 'score_hidden']),\n 'Bitcoin/comments/raw/RC_2014-11.txt': dict_keys(['archived', 'score_hidden', 'ups', 'link_id', 'controversiality', 'name', 'distinguished', 'author_flair_css_class', 'subreddit', 'retrieved_on', 'parent_id', 'downs', 'id', 'subreddit_id', 'author_flair_text', 'score', 'edited', 'author', 'gilded', 'body', 'created_utc']),\n 'Bitcoin/comments/raw/RC_2014-12.txt': dict_keys(['body', 'edited', 'name', 'archived', 'subreddit_id', 'created_utc', 'link_id', 'id', 'author', 'score_hidden', 'author_flair_text', 'parent_id', 'distinguished', 'downs', 'gilded', 'retrieved_on', 'author_flair_css_class', 'ups', 'controversiality', 'subreddit', 'score']),\n 'Bitcoin/comments/raw/RC_2015-01.txt': dict_keys(['subreddit', 'parent_id', 'retrieved_on', 'ups', 'author_flair_text', 'gilded', 'author_flair_css_class', 'subreddit_id', 'edited', 'controversiality', 'score_hidden', 'link_id', 'name', 'created_utc', 'downs', 'body', 'archived', 'distinguished', 'id', 'author', 'score']),\n 'Bitcoin/comments/raw/RC_2015-02.txt': dict_keys(['ups', 'distinguished', 'downs', 'created_utc', 'author_flair_css_class', 'name', 'body', 'author_flair_text', 'gilded', 'id', 'score_hidden', 'parent_id', 'edited', 'retrieved_on', 'author', 'archived', 'subreddit', 'score', 'subreddit_id', 'link_id', 'controversiality']),\n 'Bitcoin/comments/raw/RC_2015-03.txt': dict_keys(['id', 'archived', 'edited', 'score', 'author_flair_text', 'body', 'link_id', 'controversiality', 'author', 'gilded', 'name', 'author_flair_css_class', 'distinguished', 'created_utc', 'subreddit_id', 'ups', 'subreddit', 'downs', 'parent_id', 'retrieved_on', 'score_hidden']),\n 'Bitcoin/comments/raw/RC_2015-04.txt': dict_keys(['gilded', 'edited', 'author_flair_css_class', 'controversiality', 'score', 'ups', 'removal_reason', 'subreddit', 'downs', 'retrieved_on', 'distinguished', 'author_flair_text', 'subreddit_id', 'archived', 'parent_id', 'created_utc', 'id', 'name', 'author', 'score_hidden', 'body', 'link_id']),\n 'Bitcoin/comments/raw/RC_2015-05.txt': dict_keys(['archived', 'downs', 'gilded', 'removal_reason', 'id', 'subreddit', 'author_flair_text', 'author_flair_css_class', 'score_hidden', 'name', 'link_id', 'ups', 'subreddit_id', 'created_utc', 'parent_id', 'controversiality', 'edited', 'distinguished', 'body', 'retrieved_on', 'score', 'author']),\n 'Bitcoin/comments/raw/RC_2015-06.txt': dict_keys(['id', 'author_flair_css_class', 'parent_id', 'subreddit_id', 'link_id', 'controversiality', 'author_flair_text', 'name', 'author', 'gilded', 'body', 'score_hidden', 'downs', 'score', 'created_utc', 'archived', 'subreddit', 'retrieved_on', 'removal_reason', 'edited', 'distinguished', 'ups']),\n 'Bitcoin/comments/raw/RC_2015-07.txt': dict_keys(['created_utc', 'gilded', 'parent_id', 'id', 'subreddit', 'archived', 'retrieved_on', 'edited', 'score_hidden', 'ups', 'removal_reason', 'distinguished', 'controversiality', 'author_flair_text', 'author_flair_css_class', 'link_id', 'subreddit_id', 'body', 'author', 'name', 'score', 'downs']),\n 'Bitcoin/comments/raw/RC_2015-08.txt': dict_keys(['author_flair_text', 'author', 'ups', 'author_flair_css_class', 'subreddit_id', 'created_utc', 'edited', 'id', 'distinguished', 'link_id', 'score', 'subreddit', 'retrieved_on', 'body', 'gilded', 'parent_id', 'controversiality']),\n 'Bitcoin/comments/raw/RC_2015-09.txt': dict_keys(['author_flair_css_class', 'created_utc', 'author', 'subreddit', 'ups', 'retrieved_on', 'gilded', 'distinguished', 'score', 'controversiality', 'author_flair_text', 'subreddit_id', 'parent_id', 'id', 'body', 'edited', 'link_id']),\n 'Bitcoin/comments/raw/RC_2015-11.txt': dict_keys(['created_utc', 'edited', 'score', 'author', 'ups', 'subreddit', 'controversiality', 'author_flair_css_class', 'body', 'retrieved_on', 'distinguished', 'gilded', 'link_id', 'author_flair_text', 'id', 'parent_id', 'subreddit_id']),\n 'Bitcoin/comments/raw/RC_2016-01.txt': dict_keys(['created_utc', 'distinguished', 'retrieved_on', 'link_id', 'controversiality', 'author_flair_text', 'parent_id', 'edited', 'body', 'subreddit', 'id', 'ups', 'score', 'author', 'subreddit_id', 'stickied', 'gilded', 'author_flair_css_class']),\n 'Bitcoin/comments/raw/RC_2016-02.txt': dict_keys(['link_id', 'controversiality', 'score', 'subreddit_id', 'distinguished', 'parent_id', 'edited', 'author_flair_css_class', 'body', 'created_utc', 'stickied', 'author_flair_text', 'retrieved_on', 'gilded', 'ups', 'author', 'id', 'subreddit']),\n 'Bitcoin/comments/raw/RC_2016-03.txt': dict_keys(['author_flair_css_class', 'subreddit_id', 'body', 'subreddit', 'edited', 'stickied', 'controversiality', 'score', 'parent_id', 'distinguished', 'retrieved_on', 'link_id', 'gilded', 'author_flair_text', 'id', 'created_utc', 'author', 'ups']),\n 'Bitcoin/comments/raw/RC_2016-05.txt': dict_keys(['stickied', 'subreddit_id', 'body', 'retrieved_on', 'controversiality', 'distinguished', 'subreddit', 'edited', 'score', 'author', 'author_flair_text', 'id', 'ups', 'gilded', 'link_id', 'parent_id', 'created_utc', 'author_flair_css_class']),\n 'Bitcoin/comments/raw/RC_2016-06.txt': dict_keys(['subreddit_id', 'retrieved_on', 'score', 'subreddit', 'id', 'stickied', 'controversiality', 'distinguished', 'author_flair_css_class', 'edited', 'author', 'parent_id', 'ups', 'created_utc', 'gilded', 'link_id', 'body', 'author_flair_text']),\n 'Bitcoin/comments/raw/RC_2016-07.txt': dict_keys(['subreddit', 'author_flair_text', 'score', 'author', 'controversiality', 'created_utc', 'body', 'gilded', 'edited', 'stickied', 'subreddit_id', 'link_id', 'distinguished', 'id', 'retrieved_on', 'ups', 'author_flair_css_class', 'parent_id']),\n 'Bitcoin/comments/raw/RC_2016-08.txt': dict_keys(['author_flair_text', 'controversiality', 'created_utc', 'retrieved_on', 'edited', 'link_id', 'distinguished', 'author', 'parent_id', 'body', 'author_flair_css_class', 'ups', 'stickied', 'id', 'gilded', 'subreddit_id', 'subreddit', 'score']),\n 'Bitcoin/comments/raw/RC_2016-09.txt': dict_keys(['created_utc', 'gilded', 'subreddit_id', 'controversiality', 'author_flair_text', 'stickied', 'subreddit', 'author_flair_css_class', 'author', 'parent_id', 'ups', 'id', 'link_id', 'score', 'body', 'retrieved_on', 'edited', 'distinguished']),\n 'Bitcoin/comments/raw/RC_2016-10.txt': dict_keys(['author', 'id', 'edited', 'distinguished', 'gilded', 'author_flair_css_class', 'parent_id', 'body', 'subreddit_id', 'subreddit', 'link_id', 'stickied', 'retrieved_on', 'created_utc', 'controversiality', 'author_flair_text', 'score']),\n 'Bitcoin/comments/raw/RC_2016-11.txt': dict_keys(['link_id', 'body', 'stickied', 'controversiality', 'subreddit', 'author_flair_text', 'score', 'subreddit_id', 'author_flair_css_class', 'author', 'parent_id', 'created_utc', 'retrieved_on', 'id', 'edited', 'gilded', 'distinguished']),\n 'Bitcoin/comments/raw/RC_2016-12.txt': dict_keys(['retrieved_on', 'gilded', 'author_flair_css_class', 'score', 'id', 'controversiality', 'author', 'subreddit_id', 'parent_id', 'author_flair_text', 'distinguished', 'body', 'stickied', 'subreddit', 'created_utc', 'edited', 'link_id']),\n 'Bitcoin/comments/raw/RC_2017-01.txt': dict_keys(['parent_id', 'id', 'edited', 'created_utc', 'distinguished', 'link_id', 'subreddit_id', 'retrieved_on', 'author_flair_css_class', 'controversiality', 'author_flair_text', 'subreddit', 'gilded', 'stickied', 'body', 'score', 'author']),\n 'Bitcoin/comments/raw/RC_2017-02.txt': dict_keys(['id', 'author_flair_text', 'subreddit_id', 'retrieved_on', 'stickied', 'edited', 'controversiality', 'link_id', 'created_utc', 'author_flair_css_class', 'body', 'score', 'gilded', 'author', 'subreddit', 'parent_id', 'distinguished']),\n 'Bitcoin/comments/raw/RC_2017-03.txt': dict_keys(['stickied', 'distinguished', 'retrieved_on', 'body', 'subreddit_id', 'author_flair_css_class', 'id', 'link_id', 'score', 'parent_id', 'author_flair_text', 'gilded', 'author', 'controversiality', 'created_utc', 'edited', 'subreddit']),\n 'Bitcoin/comments/raw/RC_2017-04.txt': dict_keys(['stickied', 'link_id', 'distinguished', 'author_flair_text', 'id', 'created_utc', 'gilded', 'retrieved_on', 'score', 'body', 'subreddit_id', 'parent_id', 'author', 'controversiality', 'can_gild', 'edited', 'subreddit', 'author_flair_css_class']),\n 'Bitcoin/comments/raw/RC_2017-05.txt': dict_keys(['author', 'author_flair_css_class', 'author_flair_text', 'body', 'can_gild', 'controversiality', 'created_utc', 'distinguished', 'edited', 'gilded', 'id', 'link_id', 'parent_id', 'retrieved_on', 'score', 'stickied', 'subreddit', 'subreddit_id']),\n 'Bitcoin/comments/raw/RC_2017-06.txt': dict_keys(['author', 'author_flair_css_class', 'author_flair_text', 'body', 'can_gild', 'controversiality', 'created_utc', 'distinguished', 'edited', 'gilded', 'id', 'link_id', 'parent_id', 'retrieved_on', 'score', 'stickied', 'subreddit', 'subreddit_id']),\n 'Bitcoin/comments/raw/RC_2017-07.txt': dict_keys(['approved_at_utc', 'author', 'author_flair_css_class', 'author_flair_text', 'body', 'can_gild', 'can_mod_post', 'controversiality', 'created_utc', 'distinguished', 'edited', 'gilded', 'id', 'link_id', 'parent_id', 'retrieved_on', 'score', 'stickied', 'subreddit', 'subreddit_id']),\n 'Bitcoin/comments/raw/RC_2017-08.txt': dict_keys(['author', 'author_flair_css_class', 'author_flair_text', 'body', 'can_gild', 'collapsed', 'collapsed_reason', 'controversiality', 'created_utc', 'distinguished', 'edited', 'gilded', 'id', 'is_submitter', 'link_id', 'parent_id', 'retrieved_on', 'score', 'stickied', 'subreddit', 'subreddit_id']),\n 'Bitcoin/comments/raw/RC_2017-09.txt': dict_keys(['author', 'author_flair_css_class', 'author_flair_text', 'body', 'can_gild', 'collapsed', 'collapsed_reason', 'controversiality', 'created_utc', 'distinguished', 'edited', 'gilded', 'id', 'is_submitter', 'link_id', 'parent_id', 'retrieved_on', 'score', 'stickied', 'subreddit', 'subreddit_id']),\n 'Bitcoin/comments/raw/RC_2017-10.txt': dict_keys(['author', 'author_flair_css_class', 'author_flair_text', 'body', 'can_gild', 'controversiality', 'created_utc', 'distinguished', 'edited', 'gilded', 'id', 'is_submitter', 'link_id', 'parent_id', 'permalink', 'retrieved_on', 'score', 'stickied', 'subreddit', 'subreddit_id']),\n 'Bitcoin/comments/raw/RC_2017-11.txt': dict_keys(['author', 'author_flair_css_class', 'author_flair_text', 'body', 'can_gild', 'controversiality', 'created_utc', 'distinguished', 'edited', 'gilded', 'id', 'is_submitter', 'link_id', 'parent_id', 'permalink', 'retrieved_on', 'score', 'stickied', 'subreddit', 'subreddit_id', 'subreddit_type'])}"
     },
     "metadata": {},
     "execution_count": 3
    }
   ],
   "source": [
    "okeys"
   ]
  },
  {
   "cell_type": "code",
   "execution_count": 4,
   "metadata": {},
   "outputs": [
    {
     "output_type": "execute_result",
     "data": {
      "text/plain": "b'{\"author\":\"OSakran\",\"author_flair_css_class\":null,\"author_flair_text\":null,\"body\":\"where should I buy bitcoin i\\'m new to this, but im very interested in purchasing some.\",\"can_gild\":true,\"controversiality\":0,\"created_utc\":1509494407,\"distinguished\":null,\"edited\":false,\"gilded\":0,\"id\":\"dp61rsy\",\"is_submitter\":false,\"link_id\":\"t3_79zhyl\",\"parent_id\":\"t1_dp5zxpe\",\"permalink\":\"/r/Bitcoin/comments/79zhyl/my_new_addiction/dp61rsy/\",\"retrieved_on\":1511998508,\"score\":1,\"stickied\":false,\"subreddit\":\"Bitcoin\",\"subreddit_id\":\"t5_2s3qj\",\"subreddit_type\":\"public\"}\\n'"
     },
     "metadata": {},
     "execution_count": 4
    }
   ],
   "source": [
    "line"
   ]
  },
  {
   "cell_type": "code",
   "execution_count": null,
   "metadata": {},
   "outputs": [],
   "source": []
  }
 ]
}