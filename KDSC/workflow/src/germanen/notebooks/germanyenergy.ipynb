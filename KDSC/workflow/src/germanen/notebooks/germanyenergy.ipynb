{
 "metadata": {
  "language_info": {
   "codemirror_mode": {
    "name": "ipython",
    "version": 3
   },
   "file_extension": ".py",
   "mimetype": "text/x-python",
   "name": "python",
   "nbconvert_exporter": "python",
   "pygments_lexer": "ipython3",
   "version": 3
  },
  "orig_nbformat": 2
 },
 "nbformat": 4,
 "nbformat_minor": 2,
 "cells": [
  {
   "cell_type": "markdown",
   "metadata": {},
   "source": [
    "# German-Power-Plants Workflow"
   ]
  },
  {
   "cell_type": "markdown",
   "metadata": {},
   "source": [
    "## Data Origin\n",
    "source\\[0\\]: conventional power plants in germany:\n",
    "https://data.open-power-system-data.org/conventional_power_plants/2018-12-20/conventional_power_plants_DE.csv<br/>\n",
    "source\\[1\\]: GeoJSON ploygons for German districts:\n",
    "https://raw.githubusercontent.com/isellsoap/deutschlandGeoJSON/master/4_kreise/2_hoch.geo.json"
   ]
  },
  {
   "cell_type": "markdown",
   "metadata": {},
   "source": [
    "## Workflow\n",
    "### aim(data):\n",
    "- produce output.geojson, combining both data sources, mapping the sum of power to each polygon.  -- [download output.geojso](https://workflowkdcc.s3-eu-west-1.amazonaws.com/germanyenergy/output.geojson).\n"
   ]
  },
  {
   "cell_type": "markdown",
   "metadata": {},
   "source": [
    "### aim(science):\n",
    "- visualize total, renewable, fossil and nuclear power for german district."
   ]
  },
  {
   "cell_type": "markdown",
   "metadata": {},
   "source": [
    "\n",
    "### structure:\n",
    "- [KDSC/workflow/germanen.yaml](https://github.com/IdontApply/KDSC/blob/master/KDSC/workflow/germanen.yaml)"
   ]
  },
  {
   "cell_type": "code",
   "execution_count": null,
   "metadata": {},
   "outputs": [],
   "source": [
    "import pandas as pd\n",
    "import matplotlib.pyplot as plt\n",
    "import numpy as np\n",
    "%matplotlib inline\n",
    "from IPython.display import display as di\n",
    "import geopy\n",
    "import folium\n",
    "from shapely.geometry import Point, Polygon\n",
    "from geopy.geocoders import Nominatim\n",
    "import geopandas as gpd\n",
    "import json\n",
    "import os\n",
    "\n",
    "from branca import colormap as cm\n",
    "\n",
    "                         "
   ]
  },
  {
   "cell_type": "code",
   "execution_count": null,
   "metadata": {},
   "outputs": [],
   "source": [
    "\n",
    "prefix = 'germanyenergy/'\n",
    "\n",
    "os.system('gsutil cp gs://workflowkddc/germanen/output.geojson output.geojson')\n",
    "geo_data=r\"./output.geojson\"\n",
    "\n",
    "def cholo( ele, geo_data, color):\n",
    "    \n",
    "    de = gpd.read_file(geo_data,)\n",
    "    \n",
    "    ele = de.set_index('ID_3')[ele]\n",
    "    colormap = color\n",
    "    # ,vmin=0,vmax=8000)\n",
    "    \n",
    "    m = folium.Map(\n",
    "        location=[51.1657, 10.4515],\n",
    "        zoom_start=6,\n",
    "        min_zoom=6, \n",
    "        max_zoom=6\n",
    "    )\n",
    "    folium.GeoJson(\n",
    "        geo_data,\n",
    "        name='germany init drawing',\n",
    "        style_function=lambda feature: {\n",
    "            'fillColor': colormap(ele[feature['properties']['ID_3']]),\n",
    "            'color': 'black',\n",
    "            'weight': 1,\n",
    "            'dashArray': '5, 5',\n",
    "            'fillOpacity': 0.9,\n",
    "    }\n",
    ").add_to(m)\n",
    "    \n",
    "    style_function = lambda x: {'fillColor': '#ffffff', \n",
    "                                'color':'#000000', \n",
    "                                'fillOpacity': 0.1, \n",
    "                                'weight': 0.1}\n",
    "    highlight_function = lambda x: {'fillColor': '#000000', \n",
    "                                    'color':'#000000', \n",
    "                                    'fillOpacity': 0.50, \n",
    "                                    'weight': 0.1}\n",
    "    NIL = folium.features.GeoJson(\n",
    "        \"./output.geojson\",\n",
    "        style_function=style_function, \n",
    "        control=False,\n",
    "        highlight_function=highlight_function, \n",
    "        tooltip=folium.features.GeoJsonTooltip(\n",
    "            fields=['NAME_3','total','ID_3'],\n",
    "            aliases=['Neighborhood: ','Resident foreign population in %: ','ID:  '],\n",
    "            style=(\"background-color: white; color: #333333; font-family: arial; font-size: 12px; padding: 10px;\") \n",
    "        )\n",
    "    )\n",
    "    m.add_child(NIL)\n",
    "    m.keep_in_front(NIL)\n",
    "    folium.LayerControl().add_to(m)\n",
    "    display(m)\n",
    "\n",
    "\n",
    "cholo('total', geo_data, cm.LinearColormap(['white' ,'yellow', 'orange', 'red'],index=[0, 100, 1000, 8000],vmin=0,vmax=8000))"
   ]
  },
  {
   "cell_type": "code",
   "execution_count": null,
   "metadata": {},
   "outputs": [],
   "source": [
    "\n",
    "\n",
    "'Renewable energy'\n",
    "'Nuclear'\n",
    "'Fossil fuels'\n",
    "cholo('Nuclear',  geo_data, cm.LinearColormap(['white' ,'lightblue', 'blue','darkblue'],index=[0, 100, 1000, 8000],vmin=0,vmax=8000))\n"
   ]
  },
  {
   "cell_type": "code",
   "execution_count": null,
   "metadata": {},
   "outputs": [],
   "source": [
    "cholo( 'Fossil fuels',  geo_data, cm.LinearColormap(['white' ,'lightgray', 'gray','black'],index=[0, 100, 1000, 8000],vmin=0,vmax=8000))"
   ]
  },
  {
   "cell_type": "code",
   "execution_count": null,
   "metadata": {},
   "outputs": [],
   "source": [
    "cholo( 'Renewable energy',  geo_data, cm.LinearColormap(['white' ,'lime', 'green','darkgreen'],index=[0, 100, 1000, 8000],vmin=0,vmax=8000))\n"
   ]
  }
 ]
}